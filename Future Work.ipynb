{
    "cells": [
        {
            "cell_type": "markdown",
            "metadata": {
                "collapsed": true
            },
            "source": "# Business Analysis"
        },
        {
            "cell_type": "markdown",
            "metadata": {},
            "source": "### Future goal:\n\nThe task is to help people in exploring better facilities around their neighborhood. Canada is a popular place for people to migrate in. How to find a good housing is a important task for them to consider.It will help people making smart and efficient decision on selecting great neighborhood out of numbers of other neighborhoods in Scarborough, Toranto.\n\nThis task is for the people who is looking for a good neighborhood and the house price is both suitable. The environment has the best surroundings like cafe, shop, bookstore, restaurant, university etc. \n\nThis task aim to create an analysis of features for a people migrating to Scarborough to search a best neighborhood as a comparative analysis between neighborhoods. \nThe features include median housing price and better school according to ratings, crime rates of that particular area, road connectivity, weather conditions, good management for emergency, water resources both freash and waste water and excrement conveyed in sewers and recreational facilities. \n\n\nThe task is to help people in exploring better facilities around their neighborhood. It will help people making smart and efficient decision on selecting great neighborhood out of numbers of other neighborhoods in Scarborough, Toranto.People are migrating to various states of Canada and needed lots of research for good housing prices and reputated schools for their children who are looking for better neighborhoods. For ease of accessing to Cafe, School, Super market, medical shops, grocery shops, mall, theatre, hospital, like minded people, etc.And let the people aware how the Toronto is suitable for people to migrate in.\n\n"
        },
        {
            "cell_type": "markdown",
            "metadata": {},
            "source": ""
        },
        {
            "cell_type": "markdown",
            "metadata": {},
            "source": "### The Location:\nScarborough is a popular destination for new immigrants in Canada to reside. As a result, it is one of the most diverse and multicultural areas in the Greater Toronto Area, being home to various religious groups and places of worship. Although immigration has become a hot topic over the past few years with more governments seeking more restrictions on immigrants and refugees, the general trend of immigration into Canada has been one of on the rise.\n\n\n### Foursquare API:\nThis project would use Four-square API as its prime data gathering source as it has a database of millions of places, especially their places API which provides the ability to perform location search, location sharing and details about a business.\n\n\n### Work Flow:\nUsing credentials of Foursquare API features of near-by places of the neighborhoods would be mined. Due to http request limitations the number of places per neighborhood parameter would reasonably be set to 100 and the radius parameter would be set to 500.\n\n\n### Clustering Approach:\nTo compare the similarities of two cities, we decided to explore neighborhoods, segment them, and group them into clusters to find similar neighborhoods in a big city like New York and Toronto. To be able to do that, we need to cluster data which is a form of unsupervised machine learning: k-means clustering algorithm\n\n\n### Libraries Which are Used to Develope the Project:\nPandas: For creating and manipulating dataframes.\n\nFolium: Python visualization library would be used to visualize the neighborhoods cluster distribution of using interactive leaflet map.\n\nScikit Learn: For importing k-means clustering.\n\nJSON: Library to handle JSON files.\n\nXML: To separate data from presentation and XML stores data in plain text format.\n\nGeocoder: To retrieve Location Data.\n\nBeautiful Soup and Requests: To scrap and library to handle http requests.\n\nMatplotlib: Python Plotting Module."
        }
    ],
    "metadata": {
        "kernelspec": {
            "display_name": "Python 3.7",
            "language": "python",
            "name": "python3"
        },
        "language_info": {
            "codemirror_mode": {
                "name": "ipython",
                "version": 3
            },
            "file_extension": ".py",
            "mimetype": "text/x-python",
            "name": "python",
            "nbconvert_exporter": "python",
            "pygments_lexer": "ipython3",
            "version": "3.7.9"
        }
    },
    "nbformat": 4,
    "nbformat_minor": 1
}